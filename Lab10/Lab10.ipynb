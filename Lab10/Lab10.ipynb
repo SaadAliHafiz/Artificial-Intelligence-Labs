{
 "cells": [
  {
   "cell_type": "code",
   "execution_count": 1,
   "metadata": {},
   "outputs": [
    {
     "name": "stdout",
     "output_type": "stream",
     "text": [
      "Output After Training:\n",
      "[[0.00966449]\n",
      " [0.00786506]\n",
      " [0.99358898]\n",
      " [0.99211957]]\n"
     ]
    }
   ],
   "source": [
    "import numpy as np\n",
    "\n",
    " # sigmoid function\n",
    "def nonlin(x,deriv=False):\n",
    "    if(deriv==True):\n",
    "        return x*(1-x)\n",
    "    return 1/(1+np.exp(-x))\n",
    "\n",
    "X = np.array([ [0,0,1],\n",
    " [0,1,1],\n",
    " [1,0,1],\n",
    " [1,1,1] ])\n",
    "\n",
    " # output dataset \n",
    "y = np.array([[0,0,1,1]]).T\n",
    "\n",
    " # seed random numbers to make calculation\n",
    " # deterministic (just a good practice)\n",
    "np.random.seed(1)\n",
    "\n",
    " # initialize weights randomly with mean 0\n",
    "syn0 = 2*np.random.random((3,1)) - 1\n",
    "\n",
    "for iter in range(10000):\n",
    "    l0 = X\n",
    "    l1 = nonlin(np.dot(l0,syn0))\n",
    "    l1_error = y - l1\n",
    "    l1_delta = l1_error * nonlin(l1,True)\n",
    "    syn0 += np.dot(l0.T,l1_delta)\n",
    "print (\"Output After Training:\")\n",
    "print (l1)"
   ]
  },
  {
   "cell_type": "code",
   "execution_count": null,
   "metadata": {},
   "outputs": [],
   "source": []
  }
 ],
 "metadata": {
  "kernelspec": {
   "display_name": "Python 3",
   "language": "python",
   "name": "python3"
  },
  "language_info": {
   "codemirror_mode": {
    "name": "ipython",
    "version": 3
   },
   "file_extension": ".py",
   "mimetype": "text/x-python",
   "name": "python",
   "nbconvert_exporter": "python",
   "pygments_lexer": "ipython3",
   "version": "3.7.3"
  }
 },
 "nbformat": 4,
 "nbformat_minor": 2
}
